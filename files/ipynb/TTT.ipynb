{
 "cells": [
  {
   "cell_type": "code",
   "execution_count": 119,
   "metadata": {
    "collapsed": true
   },
   "outputs": [],
   "source": [
    "import random"
   ]
  },
  {
   "cell_type": "code",
   "execution_count": 120,
   "metadata": {
    "collapsed": false
   },
   "outputs": [],
   "source": [
    "class Board:\n",
    "    def __init__(self, board = '---------', turn = 'X'):\n",
    "        self.turn = turn\n",
    "        self.board_list = list(board)\n",
    "        # board states are a 9-character representing the state of the board.\n",
    "\n",
    "    def reset(self):\n",
    "        self.turn = 'X'\n",
    "        self.board_list = list('---------')\n",
    "        \n",
    "    def show(self):\n",
    "        state = self.board_list\n",
    "        print(state[0],'|', state[1],'|', state[2], sep='')\n",
    "        print('-----')\n",
    "        print(state[3],'|', state[4],'|', state[5], sep='')\n",
    "        print('-----')\n",
    "        print(state[6],'|', state[7],'|', state[8], sep='')\n",
    "    \n",
    "    def move(self, index):\n",
    "        self.board_list[index] = self.turn\n",
    "        self.turn = 'X' if self.turn == 'O' else 'O' # switch turn\n",
    "    \n",
    "    def winner(self):\n",
    "        straight_lines = ((0,1,2),(3,4,5),(6,7,8),(0,3,6),\n",
    "                          (1,4,7),(2,5,8),(0,4,8),(2,4,6))\n",
    "        for turn in ['X','O']:\n",
    "            for line in straight_lines:\n",
    "                if all(x == turn for x in (self.board_list[i] for i in line)):\n",
    "                    return turn\n",
    "        return '' # if there is no winner\n",
    "\n",
    "    def is_full(self):\n",
    "        return('-' not in self.board_list)"
   ]
  },
  {
   "cell_type": "code",
   "execution_count": 121,
   "metadata": {
    "collapsed": false
   },
   "outputs": [],
   "source": [
    "class Player:\n",
    "    def __init__(self, policy = 'random'):\n",
    "        self.policy = policy  #'random, max'\n",
    "        self.alpha = 0.5\n",
    "        self.gamma = 1\n",
    "        self.V = {} # if it always start as O player, we don't need separate value functions\n",
    "        self.old_move = None # used for updating\n",
    "    \n",
    "    def state_value(self, board_string):\n",
    "        if board_string not in self.V:\n",
    "            return 0\n",
    "        else:\n",
    "            return self.V[board_string]\n",
    "\n",
    "    def select_move(self, board):\n",
    "        open_indices = [ind for ind, val in enumerate(board.board_list) if val == '-']        \n",
    "        if self.policy == 'random':\n",
    "            move_ind = random.choice(open_indices)\n",
    "        else: # self.policy == 'max'\n",
    "            future_boards = []\n",
    "            for i in open_indices:\n",
    "                after_move_board = board.board_list.copy()\n",
    "                after_move_board[i] = board.turn\n",
    "                future_boards.append(''.join(after_move_board))\n",
    "            future_values = [self.state_value(x) for x in future_boards]\n",
    "            \n",
    "            #old way: pick the first value that is the max\n",
    "            #move_ind = future_values.index(max(future_values)) # pick the largest value\n",
    "            \n",
    "            #better way: randomly pick one of the maximum values\n",
    "            max_val = max(future_values) # will often be 0 in the beginning\n",
    "            max_pos = [i for i, j in enumerate(future_values) if j == max_val]\n",
    "            max_indices = [open_indices[x] for x in max_pos]\n",
    "            move_ind = random.choice(max_indices)\n",
    "        return move_ind\n",
    "        \n",
    "    def move(self, board):\n",
    "        move_ind = self.select_move(board)\n",
    "        \n",
    "        board.move(move_ind)\n",
    "            \n",
    "        #updating move history\n",
    "        self.current_move = ''.join(board.board_list)\n",
    "        self.reward(0, game_over = False)\n",
    "        \n",
    "        self.old_move = self.current_move # now that the move is over\n",
    "        \n",
    "        \n",
    "    def reward(self, reward_value, game_over = True):\n",
    "        (OM,V) = (self.old_move, self.V) #shorten later statements \n",
    "\n",
    "        if not OM: # if it's just the first move\n",
    "            return\n",
    "        \n",
    "        if game_over:\n",
    "            current_state_value = 0\n",
    "        else:\n",
    "            current_state_value = self.state_value(self.current_move)\n",
    "\n",
    "        if OM not in V:\n",
    "            V[OM] = 0\n",
    "        \n",
    "        V[OM] += self.alpha * (reward_value + self.gamma * current_state_value - V[OM])"
   ]
  },
  {
   "cell_type": "code",
   "execution_count": 122,
   "metadata": {
    "collapsed": false
   },
   "outputs": [],
   "source": [
    "class Tournament:\n",
    "    def __init__(self, playerA, playerB):\n",
    "        self.playerA = playerA\n",
    "        self.playerB = playerB\n",
    "        self.history = []\n",
    "        self.board = Board()\n",
    "    \n",
    "    def reset(self):\n",
    "        self.history = []\n",
    "    \n",
    "    def play_game(self):\n",
    "        self.board.reset()\n",
    "        if (random.random() < 0.5):  # randomly pick the player to start\n",
    "            current_player = self.playerA\n",
    "        else:\n",
    "            current_player = self.playerB\n",
    "        while (not self.board.is_full() and not self.board.winner() ):\n",
    "            if (current_player == self.playerA): # switch players\n",
    "                current_player = self.playerB\n",
    "            else:\n",
    "                current_player = self.playerA\n",
    "            current_player.move(self.board)\n",
    "        if self.board.winner():\n",
    "            if current_player == self.playerA:\n",
    "                self.history.append('A')\n",
    "                self.playerA.reward(100, game_over = True)\n",
    "                self.playerB.reward(-100, game_over = True)\n",
    "            else: # player B won\n",
    "                self.history.append('B')\n",
    "                self.playerA.reward(-100, game_over = True)\n",
    "                self.playerB.reward(100, game_over = True)\n",
    "        else: # it was a tie\n",
    "            self.history.append('-')\n",
    "            self.playerA.reward(0, game_over = True)\n",
    "            self.playerB.reward(0, game_over = True)\n",
    "    \n",
    "    def play_games(self, games_to_play):\n",
    "        for i in range(games_to_play):\n",
    "            self.play_game()\n",
    "        print(self.history[-games_to_play:].count('A'),'games won by player A')\n",
    "        print(self.history[-games_to_play:].count('B'),'games won by player B')\n",
    "        print(self.history[-games_to_play:].count('-'),'ties')"
   ]
  },
  {
   "cell_type": "code",
   "execution_count": 132,
   "metadata": {
    "collapsed": false
   },
   "outputs": [
    {
     "name": "stdout",
     "output_type": "stream",
     "text": [
      "48 games won by player A\n",
      "41 games won by player B\n",
      "11 ties\n",
      "\n",
      "61 games won by player A\n",
      "71 games won by player B\n",
      "99868 ties\n",
      "\n",
      "0 games won by player A\n",
      "0 games won by player B\n",
      "100 ties\n"
     ]
    }
   ],
   "source": [
    "A = Player('max')\n",
    "B = Player('max')\n",
    "tournament = Tournament(A,B)\n",
    "tournament.play_games(100)\n",
    "print()\n",
    "tournament.play_games(100000)\n",
    "print()\n",
    "tournament.play_games(100)"
   ]
  },
  {
   "cell_type": "code",
   "execution_count": 133,
   "metadata": {
    "collapsed": false
   },
   "outputs": [
    {
     "name": "stdout",
     "output_type": "stream",
     "text": [
      "0.0\n",
      "0.0\n",
      "0\n"
     ]
    }
   ],
   "source": [
    "# observe a few board state value functions\n",
    "print(A.state_value('-O--X----'))\n",
    "print(A.state_value('X--------'))\n",
    "print(A.state_value('XXX-O-O--'))"
   ]
  },
  {
   "cell_type": "code",
   "execution_count": 134,
   "metadata": {
    "collapsed": false
   },
   "outputs": [
    {
     "data": {
      "text/plain": [
       "[<matplotlib.lines.Line2D at 0x1080bc358>]"
      ]
     },
     "execution_count": 134,
     "metadata": {},
     "output_type": "execute_result"
    },
    {
     "data": {
      "image/png": "[encoded data removed]",
      "text/plain": [
       "<matplotlib.figure.Figure at 0x105267438>"
      ]
     },
     "metadata": {},
     "output_type": "display_data"
    }
   ],
   "source": [
    "# plot the history\n",
    "import numpy as np\n",
    "import pylab as py\n",
    "import matplotlib\n",
    "%matplotlib inline \n",
    "\n",
    "history = np.array(tournament.history.copy())\n",
    "rewards = np.zeros(len(history))\n",
    "rewards[history == 'A'] = 100\n",
    "rewards[history == 'B'] = -100\n",
    "\n",
    "N = 100\n",
    "def running_mean(x, N):\n",
    "    return np.convolve(x, np.ones((N,))/N)[(N-1):]\n",
    "r_mean = running_mean(rewards, 100)\n",
    "py.plot(r_mean[0:20000])"
   ]
  },
  {
   "cell_type": "code",
   "execution_count": null,
   "metadata": {
    "collapsed": true
   },
   "outputs": [],
   "source": []
  }
 ],
 "metadata": {
  "kernelspec": {
   "display_name": "Python 3",
   "language": "python",
   "name": "python3"
  },
  "language_info": {
   "codemirror_mode": {
    "name": "ipython",
    "version": 3
   },
   "file_extension": ".py",
   "mimetype": "text/x-python",
   "name": "python",
   "nbconvert_exporter": "python",
   "pygments_lexer": "ipython3",
   "version": "3.4.3"
  }
 },
 "nbformat": 4,
 "nbformat_minor": 0
}
